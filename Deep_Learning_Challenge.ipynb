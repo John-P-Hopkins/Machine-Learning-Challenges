{
 "cells": [
  {
   "cell_type": "markdown",
   "id": "777e2ebc-371c-4d16-8eeb-e89e5b698308",
   "metadata": {},
   "source": [
    "# Deep Learning Challenge\n",
    ">* Section 5.3.6"
   ]
  },
  {
   "cell_type": "markdown",
   "id": "05637757-bae9-4a2d-be91-1f2fcc74ba9d",
   "metadata": {},
   "source": [
    "* Using the fashion MNIST dataset:\n",
    "* 1. Preprocess your data so that you can feed it into ANN models.\n",
    "* 2. Split your data into training and test sets.\n",
    "* 3. Try different ANN models and train them on your training set. You can play with the following:"
   ]
  },
  {
   "cell_type": "markdown",
   "id": "5fde512e-60a2-4eba-b4eb-6da2bc5240de",
   "metadata": {},
   "source": [
    ">* Number of layers\n",
    ">* Activation functions of the layers\n",
    ">* Number of neurons in the layers\n",
    ">* Different batch sizes during training"
   ]
  },
  {
   "cell_type": "markdown",
   "id": "b1b21fb8-0fa2-4c59-9846-03efe6766cf0",
   "metadata": {},
   "source": [
    "* 4. Compare your models' training scores and interpret your results.\n",
    "* 5. Evaluate how your models perform on your test set. Compare the results of your models. "
   ]
  },
  {
   "cell_type": "code",
   "execution_count": 1,
   "id": "d26b7afa-5982-4eba-99b0-c85f874c31b4",
   "metadata": {},
   "outputs": [],
   "source": [
    "import numpy as np\n",
    "import tensorflow as tf\n",
    "from tensorflow.keras.datasets import fashion_mnist\n",
    "from tensorflow.keras.utils import to_categorical\n",
    "from tensorflow.keras.models import Sequential \n",
    "from tensorflow.keras.layers import Dense"
   ]
  },
  {
   "cell_type": "code",
   "execution_count": 2,
   "id": "52db634f-70b0-4b3f-9605-7d5b89da0249",
   "metadata": {},
   "outputs": [],
   "source": [
    "(X_train, y_train), (X_test, y_test) = fashion_mnist.load_data()"
   ]
  },
  {
   "cell_type": "code",
   "execution_count": 3,
   "id": "73c989f9-e0cf-4169-8532-abdce8853594",
   "metadata": {},
   "outputs": [
    {
     "name": "stdout",
     "output_type": "stream",
     "text": [
      "Train images shape: (60000, 28, 28)\n",
      "Train labels shape: (60000,)\n",
      "Test images shape: (10000, 28, 28)\n",
      "Test labels shape: (10000,)\n"
     ]
    }
   ],
   "source": [
    "print(\"Train images shape:\", X_train.shape)\n",
    "print(\"Train labels shape:\", y_train.shape)\n",
    "print(\"Test images shape:\", X_test.shape)\n",
    "print(\"Test labels shape:\", y_test.shape)"
   ]
  },
  {
   "cell_type": "code",
   "execution_count": 4,
   "id": "7f99181b-aaa7-4397-a6f6-d71246d4c3fe",
   "metadata": {},
   "outputs": [],
   "source": [
    "input_dim = 784 \n",
    "output_dim = nb_classes = 10\n",
    "nb_epoch = 20\n",
    "\n",
    "X_train = X_train.reshape(60000, input_dim)\n",
    "X_test = X_test.reshape(10000, input_dim)\n",
    "X_train = X_train.astype('float32')\n",
    "X_test = X_test.astype('float32')\n",
    "X_train /= 255\n",
    "X_test /= 255"
   ]
  },
  {
   "cell_type": "code",
   "execution_count": 5,
   "id": "14cf86a7-533d-4a8d-9da5-d643743efa5c",
   "metadata": {},
   "outputs": [],
   "source": [
    "Y_train = to_categorical(y_train, nb_classes)\n",
    "Y_test = to_categorical(y_test, nb_classes)"
   ]
  },
  {
   "cell_type": "code",
   "execution_count": 6,
   "id": "4022c795-5271-4d22-bb0f-aa3f814c910a",
   "metadata": {},
   "outputs": [
    {
     "name": "stdout",
     "output_type": "stream",
     "text": [
      "Epoch 1/20\n",
      "7500/7500 [==============================] - 12s 2ms/step - loss: 0.5429 - accuracy: 0.8126\n",
      "Epoch 2/20\n",
      "7500/7500 [==============================] - 12s 2ms/step - loss: 0.4030 - accuracy: 0.8541\n",
      "Epoch 3/20\n",
      "7500/7500 [==============================] - 12s 2ms/step - loss: 0.3675 - accuracy: 0.8670\n",
      "Epoch 4/20\n",
      "7500/7500 [==============================] - 11s 2ms/step - loss: 0.3426 - accuracy: 0.8753\n",
      "Epoch 5/20\n",
      "7500/7500 [==============================] - 11s 2ms/step - loss: 0.3271 - accuracy: 0.8806\n",
      "Epoch 6/20\n",
      "7500/7500 [==============================] - 12s 2ms/step - loss: 0.3122 - accuracy: 0.8859\n",
      "Epoch 7/20\n",
      "7500/7500 [==============================] - 11s 2ms/step - loss: 0.2999 - accuracy: 0.8906\n",
      "Epoch 8/20\n",
      "7500/7500 [==============================] - 12s 2ms/step - loss: 0.2895 - accuracy: 0.8937\n",
      "Epoch 9/20\n",
      "7500/7500 [==============================] - 12s 2ms/step - loss: 0.2806 - accuracy: 0.8977\n",
      "Epoch 10/20\n",
      "7500/7500 [==============================] - 12s 2ms/step - loss: 0.2726 - accuracy: 0.8982\n",
      "Epoch 11/20\n",
      "7500/7500 [==============================] - 12s 2ms/step - loss: 0.2641 - accuracy: 0.9025\n",
      "Epoch 12/20\n",
      "7500/7500 [==============================] - 12s 2ms/step - loss: 0.2567 - accuracy: 0.9053\n",
      "Epoch 13/20\n",
      "7500/7500 [==============================] - 12s 2ms/step - loss: 0.2499 - accuracy: 0.9068\n",
      "Epoch 14/20\n",
      "7500/7500 [==============================] - 11s 2ms/step - loss: 0.2433 - accuracy: 0.9099\n",
      "Epoch 15/20\n",
      "7500/7500 [==============================] - 12s 2ms/step - loss: 0.2387 - accuracy: 0.9111\n",
      "Epoch 16/20\n",
      "7500/7500 [==============================] - 11s 2ms/step - loss: 0.2314 - accuracy: 0.9138\n",
      "Epoch 17/20\n",
      "7500/7500 [==============================] - 12s 2ms/step - loss: 0.2276 - accuracy: 0.9165\n",
      "Epoch 18/20\n",
      "7500/7500 [==============================] - 12s 2ms/step - loss: 0.2215 - accuracy: 0.9171\n",
      "Epoch 19/20\n",
      "7500/7500 [==============================] - 12s 2ms/step - loss: 0.2174 - accuracy: 0.9182\n",
      "Epoch 20/20\n",
      "7500/7500 [==============================] - 12s 2ms/step - loss: 0.2106 - accuracy: 0.9214\n"
     ]
    },
    {
     "data": {
      "text/plain": [
       "<keras.callbacks.History at 0x27aeb12ad00>"
      ]
     },
     "execution_count": 6,
     "metadata": {},
     "output_type": "execute_result"
    }
   ],
   "source": [
    "model = Sequential()\n",
    "# The first dense layer\n",
    "model.add(Dense(128, input_shape=(784,), activation=\"tanh\"))\n",
    "# The second dense layer\n",
    "model.add(Dense(64, activation=\"tanh\"))\n",
    "# Third dense layer\n",
    "model.add(Dense(32, activation=\"tanh\"))\n",
    "# The last layer is the output layer\n",
    "model.add(Dense(10, activation=\"softmax\"))\n",
    "\n",
    "model.compile(optimizer='sgd', loss='categorical_crossentropy',\n",
    "              metrics=['accuracy'])\n",
    "\n",
    "model.fit(X_train, Y_train, batch_size=8, epochs=20, verbose=1)"
   ]
  },
  {
   "cell_type": "code",
   "execution_count": 7,
   "id": "90be3764-c93f-439d-a347-ffd96819909e",
   "metadata": {},
   "outputs": [
    {
     "name": "stdout",
     "output_type": "stream",
     "text": [
      "Training score: 0.21143603324890137\n",
      "Training accuracy: 0.9205333590507507\n"
     ]
    }
   ],
   "source": [
    "train_score = model.evaluate(X_train, Y_train, verbose=0)\n",
    "print('Training score:', train_score[0])\n",
    "print('Training accuracy:', train_score[1])"
   ]
  },
  {
   "cell_type": "code",
   "execution_count": 8,
   "id": "d6ef88ac-48a7-428a-907a-3463f0fbe972",
   "metadata": {},
   "outputs": [
    {
     "name": "stdout",
     "output_type": "stream",
     "text": [
      "Epoch 1/20\n",
      "7500/7500 [==============================] - 11s 2ms/step - loss: 0.5392 - accuracy: 0.8096\n",
      "Epoch 2/20\n",
      "7500/7500 [==============================] - 11s 1ms/step - loss: 0.4061 - accuracy: 0.8535\n",
      "Epoch 3/20\n",
      "7500/7500 [==============================] - 11s 1ms/step - loss: 0.3727 - accuracy: 0.8659\n",
      "Epoch 4/20\n",
      "7500/7500 [==============================] - 12s 2ms/step - loss: 0.3511 - accuracy: 0.8726\n",
      "Epoch 5/20\n",
      "7500/7500 [==============================] - 11s 1ms/step - loss: 0.3339 - accuracy: 0.8780\n",
      "Epoch 6/20\n",
      "7500/7500 [==============================] - 11s 1ms/step - loss: 0.3205 - accuracy: 0.8827\n",
      "Epoch 7/20\n",
      "7500/7500 [==============================] - 11s 1ms/step - loss: 0.3078 - accuracy: 0.8877\n",
      "Epoch 8/20\n",
      "7500/7500 [==============================] - 11s 1ms/step - loss: 0.2968 - accuracy: 0.8893\n",
      "Epoch 9/20\n",
      "7500/7500 [==============================] - 11s 1ms/step - loss: 0.2867 - accuracy: 0.8942\n",
      "Epoch 10/20\n",
      "7500/7500 [==============================] - 11s 1ms/step - loss: 0.2791 - accuracy: 0.8966\n",
      "Epoch 11/20\n",
      "7500/7500 [==============================] - 11s 1ms/step - loss: 0.2704 - accuracy: 0.9000\n",
      "Epoch 12/20\n",
      "7500/7500 [==============================] - 11s 1ms/step - loss: 0.2633 - accuracy: 0.9025\n",
      "Epoch 13/20\n",
      "7500/7500 [==============================] - 11s 1ms/step - loss: 0.2563 - accuracy: 0.9059\n",
      "Epoch 14/20\n",
      "7500/7500 [==============================] - 11s 1ms/step - loss: 0.2498 - accuracy: 0.9075\n",
      "Epoch 15/20\n",
      "7500/7500 [==============================] - 11s 1ms/step - loss: 0.2444 - accuracy: 0.9099\n",
      "Epoch 16/20\n",
      "7500/7500 [==============================] - 11s 1ms/step - loss: 0.2386 - accuracy: 0.9116\n",
      "Epoch 17/20\n",
      "7500/7500 [==============================] - 11s 1ms/step - loss: 0.2338 - accuracy: 0.9150\n",
      "Epoch 18/20\n",
      "7500/7500 [==============================] - 11s 1ms/step - loss: 0.2281 - accuracy: 0.9154\n",
      "Epoch 19/20\n",
      "7500/7500 [==============================] - 11s 1ms/step - loss: 0.2228 - accuracy: 0.9173\n",
      "Epoch 20/20\n",
      "7500/7500 [==============================] - 11s 1ms/step - loss: 0.2184 - accuracy: 0.9186\n"
     ]
    },
    {
     "data": {
      "text/plain": [
       "<keras.callbacks.History at 0x27aeb8d4430>"
      ]
     },
     "execution_count": 8,
     "metadata": {},
     "output_type": "execute_result"
    }
   ],
   "source": [
    "model = Sequential()\n",
    "# The first dense layer\n",
    "model.add(Dense(128, input_shape=(784,), activation=\"tanh\"))\n",
    "# The second dense layer\n",
    "model.add(Dense(64, activation=\"tanh\"))\n",
    "# The last layer is the output layer\n",
    "model.add(Dense(10, activation=\"softmax\"))\n",
    "\n",
    "model.compile(optimizer='sgd', loss='categorical_crossentropy',\n",
    "              metrics=['accuracy'])\n",
    "\n",
    "model.fit(X_train, Y_train, batch_size=8, epochs=20, verbose=1)"
   ]
  },
  {
   "cell_type": "code",
   "execution_count": 9,
   "id": "03dc5a1f-874f-466d-b301-00ebfc2b518b",
   "metadata": {},
   "outputs": [
    {
     "name": "stdout",
     "output_type": "stream",
     "text": [
      "Training score: 0.200212761759758\n",
      "Training accuracy: 0.9269833564758301\n"
     ]
    }
   ],
   "source": [
    "train_score = model.evaluate(X_train, Y_train, verbose=0)\n",
    "print('Training score:', train_score[0])\n",
    "print('Training accuracy:', train_score[1])"
   ]
  },
  {
   "cell_type": "code",
   "execution_count": 10,
   "id": "6b8e1125-150b-4269-ade5-dfb4bfa98dbd",
   "metadata": {},
   "outputs": [
    {
     "name": "stdout",
     "output_type": "stream",
     "text": [
      "Epoch 1/20\n",
      "7500/7500 [==============================] - 12s 2ms/step - loss: 0.5868 - accuracy: 0.7950\n",
      "Epoch 2/20\n",
      "7500/7500 [==============================] - 12s 2ms/step - loss: 0.4086 - accuracy: 0.8519\n",
      "Epoch 3/20\n",
      "7500/7500 [==============================] - 12s 2ms/step - loss: 0.3670 - accuracy: 0.8641\n",
      "Epoch 4/20\n",
      "7500/7500 [==============================] - 12s 2ms/step - loss: 0.3422 - accuracy: 0.8734\n",
      "Epoch 5/20\n",
      "7500/7500 [==============================] - 12s 2ms/step - loss: 0.3228 - accuracy: 0.8813\n",
      "Epoch 6/20\n",
      "7500/7500 [==============================] - 12s 2ms/step - loss: 0.3088 - accuracy: 0.8854\n",
      "Epoch 7/20\n",
      "7500/7500 [==============================] - 12s 2ms/step - loss: 0.2951 - accuracy: 0.8909\n",
      "Epoch 8/20\n",
      "7500/7500 [==============================] - 12s 2ms/step - loss: 0.2843 - accuracy: 0.8935\n",
      "Epoch 9/20\n",
      "7500/7500 [==============================] - 12s 2ms/step - loss: 0.2750 - accuracy: 0.8969\n",
      "Epoch 10/20\n",
      "7500/7500 [==============================] - 12s 2ms/step - loss: 0.2659 - accuracy: 0.9002\n",
      "Epoch 11/20\n",
      "7500/7500 [==============================] - 12s 2ms/step - loss: 0.2573 - accuracy: 0.9034\n",
      "Epoch 12/20\n",
      "7500/7500 [==============================] - 12s 2ms/step - loss: 0.2511 - accuracy: 0.9049\n",
      "Epoch 13/20\n",
      "7500/7500 [==============================] - 12s 2ms/step - loss: 0.2436 - accuracy: 0.9090\n",
      "Epoch 14/20\n",
      "7500/7500 [==============================] - 12s 2ms/step - loss: 0.2373 - accuracy: 0.9103\n",
      "Epoch 15/20\n",
      "7500/7500 [==============================] - 12s 2ms/step - loss: 0.2309 - accuracy: 0.9125\n",
      "Epoch 16/20\n",
      "7500/7500 [==============================] - 12s 2ms/step - loss: 0.2249 - accuracy: 0.9149\n",
      "Epoch 17/20\n",
      "7500/7500 [==============================] - 12s 2ms/step - loss: 0.2200 - accuracy: 0.9173\n",
      "Epoch 18/20\n",
      "7500/7500 [==============================] - 12s 2ms/step - loss: 0.2151 - accuracy: 0.9192\n",
      "Epoch 19/20\n",
      "7500/7500 [==============================] - 12s 2ms/step - loss: 0.2087 - accuracy: 0.9213\n",
      "Epoch 20/20\n",
      "7500/7500 [==============================] - 12s 2ms/step - loss: 0.2061 - accuracy: 0.9211\n"
     ]
    },
    {
     "data": {
      "text/plain": [
       "<keras.callbacks.History at 0x27b123dc2b0>"
      ]
     },
     "execution_count": 10,
     "metadata": {},
     "output_type": "execute_result"
    }
   ],
   "source": [
    "model = Sequential()\n",
    "# The first dense layer\n",
    "model.add(Dense(128, input_shape=(784,), activation=\"relu\"))\n",
    "# The second dense layer\n",
    "model.add(Dense(64, activation=\"relu\"))\n",
    "# Third dense layer\n",
    "model.add(Dense(32, activation=\"relu\"))\n",
    "# The last layer is the output layer\n",
    "model.add(Dense(10, activation=\"softmax\"))\n",
    "\n",
    "model.compile(optimizer='sgd', loss='categorical_crossentropy',\n",
    "              metrics=['accuracy'])\n",
    "\n",
    "model.fit(X_train, Y_train, batch_size=8, epochs=20, verbose=1)"
   ]
  },
  {
   "cell_type": "code",
   "execution_count": 11,
   "id": "c60853a9-d45f-4a2a-a5bf-0032524db083",
   "metadata": {},
   "outputs": [
    {
     "name": "stdout",
     "output_type": "stream",
     "text": [
      "Training score: 0.19804686307907104\n",
      "Training accuracy: 0.92535001039505\n"
     ]
    }
   ],
   "source": [
    "train_score = model.evaluate(X_train, Y_train, verbose=0)\n",
    "print('Training score:', train_score[0])\n",
    "print('Training accuracy:', train_score[1])"
   ]
  },
  {
   "cell_type": "code",
   "execution_count": 12,
   "id": "6865b697-7c16-4fde-8d16-1833f60f7a63",
   "metadata": {},
   "outputs": [
    {
     "name": "stdout",
     "output_type": "stream",
     "text": [
      "Epoch 1/20\n",
      "7500/7500 [==============================] - 11s 1ms/step - loss: 0.5686 - accuracy: 0.8025\n",
      "Epoch 2/20\n",
      "7500/7500 [==============================] - 10s 1ms/step - loss: 0.4112 - accuracy: 0.8527\n",
      "Epoch 3/20\n",
      "7500/7500 [==============================] - 11s 1ms/step - loss: 0.3674 - accuracy: 0.8677\n",
      "Epoch 4/20\n",
      "7500/7500 [==============================] - 11s 1ms/step - loss: 0.3407 - accuracy: 0.8766\n",
      "Epoch 5/20\n",
      "7500/7500 [==============================] - 11s 1ms/step - loss: 0.3224 - accuracy: 0.8808\n",
      "Epoch 6/20\n",
      "7500/7500 [==============================] - 11s 1ms/step - loss: 0.3079 - accuracy: 0.8865\n",
      "Epoch 7/20\n",
      "7500/7500 [==============================] - 11s 1ms/step - loss: 0.2957 - accuracy: 0.8915\n",
      "Epoch 8/20\n",
      "7500/7500 [==============================] - 11s 1ms/step - loss: 0.2847 - accuracy: 0.8942\n",
      "Epoch 9/20\n",
      "7500/7500 [==============================] - 11s 1ms/step - loss: 0.2757 - accuracy: 0.8987\n",
      "Epoch 10/20\n",
      "7500/7500 [==============================] - 11s 1ms/step - loss: 0.2678 - accuracy: 0.9007\n",
      "Epoch 11/20\n",
      "7500/7500 [==============================] - 11s 1ms/step - loss: 0.2603 - accuracy: 0.9040\n",
      "Epoch 12/20\n",
      "7500/7500 [==============================] - 11s 1ms/step - loss: 0.2517 - accuracy: 0.9061\n",
      "Epoch 13/20\n",
      "7500/7500 [==============================] - 11s 1ms/step - loss: 0.2448 - accuracy: 0.9086\n",
      "Epoch 14/20\n",
      "7500/7500 [==============================] - 11s 1ms/step - loss: 0.2387 - accuracy: 0.9113\n",
      "Epoch 15/20\n",
      "7500/7500 [==============================] - 11s 1ms/step - loss: 0.2328 - accuracy: 0.9133\n",
      "Epoch 16/20\n",
      "7500/7500 [==============================] - 11s 1ms/step - loss: 0.2263 - accuracy: 0.9166\n",
      "Epoch 17/20\n",
      "7500/7500 [==============================] - 11s 1ms/step - loss: 0.2220 - accuracy: 0.9176\n",
      "Epoch 18/20\n",
      "7500/7500 [==============================] - 11s 1ms/step - loss: 0.2174 - accuracy: 0.9176\n",
      "Epoch 19/20\n",
      "7500/7500 [==============================] - 11s 1ms/step - loss: 0.2113 - accuracy: 0.9209\n",
      "Epoch 20/20\n",
      "7500/7500 [==============================] - 11s 1ms/step - loss: 0.2056 - accuracy: 0.9228\n"
     ]
    },
    {
     "data": {
      "text/plain": [
       "<keras.callbacks.History at 0x27b128075b0>"
      ]
     },
     "execution_count": 12,
     "metadata": {},
     "output_type": "execute_result"
    }
   ],
   "source": [
    "model = Sequential()\n",
    "# The first dense layer\n",
    "model.add(Dense(128, input_shape=(784,), activation=\"relu\"))\n",
    "# The second dense layer\n",
    "model.add(Dense(64, activation=\"relu\"))\n",
    "# The last layer is the output layer\n",
    "model.add(Dense(10, activation=\"softmax\"))\n",
    "\n",
    "model.compile(optimizer='sgd', loss='categorical_crossentropy',\n",
    "              metrics=['accuracy'])\n",
    "\n",
    "model.fit(X_train, Y_train, batch_size=8, epochs=20, verbose=1)"
   ]
  },
  {
   "cell_type": "code",
   "execution_count": 13,
   "id": "c846dda1-8d95-421e-a42e-a9a6ddc818d6",
   "metadata": {},
   "outputs": [
    {
     "name": "stdout",
     "output_type": "stream",
     "text": [
      "Training score: 0.18942220509052277\n",
      "Training accuracy: 0.9304500222206116\n"
     ]
    }
   ],
   "source": [
    "train_score = model.evaluate(X_train, Y_train, verbose=0)\n",
    "print('Training score:', train_score[0])\n",
    "print('Training accuracy:', train_score[1])"
   ]
  },
  {
   "cell_type": "code",
   "execution_count": 14,
   "id": "b2029edd-ed1d-46a8-aaf6-06809a8a9f54",
   "metadata": {},
   "outputs": [
    {
     "name": "stdout",
     "output_type": "stream",
     "text": [
      "Epoch 1/20\n",
      "469/469 [==============================] - 1s 2ms/step - loss: 1.1205 - accuracy: 0.6589\n",
      "Epoch 2/20\n",
      "469/469 [==============================] - 1s 2ms/step - loss: 0.7038 - accuracy: 0.7770\n",
      "Epoch 3/20\n",
      "469/469 [==============================] - 1s 2ms/step - loss: 0.5898 - accuracy: 0.8076\n",
      "Epoch 4/20\n",
      "469/469 [==============================] - 1s 2ms/step - loss: 0.5323 - accuracy: 0.8211\n",
      "Epoch 5/20\n",
      "469/469 [==============================] - 1s 2ms/step - loss: 0.4977 - accuracy: 0.8299\n",
      "Epoch 6/20\n",
      "469/469 [==============================] - 1s 2ms/step - loss: 0.4744 - accuracy: 0.8365\n",
      "Epoch 7/20\n",
      "469/469 [==============================] - 1s 2ms/step - loss: 0.4576 - accuracy: 0.8406\n",
      "Epoch 8/20\n",
      "469/469 [==============================] - 1s 2ms/step - loss: 0.4436 - accuracy: 0.8450\n",
      "Epoch 9/20\n",
      "469/469 [==============================] - 1s 2ms/step - loss: 0.4321 - accuracy: 0.8487\n",
      "Epoch 10/20\n",
      "469/469 [==============================] - 1s 2ms/step - loss: 0.4223 - accuracy: 0.8518\n",
      "Epoch 11/20\n",
      "469/469 [==============================] - 1s 2ms/step - loss: 0.4138 - accuracy: 0.8546\n",
      "Epoch 12/20\n",
      "469/469 [==============================] - 1s 2ms/step - loss: 0.4059 - accuracy: 0.8575\n",
      "Epoch 13/20\n",
      "469/469 [==============================] - 1s 2ms/step - loss: 0.3994 - accuracy: 0.8596\n",
      "Epoch 14/20\n",
      "469/469 [==============================] - 1s 2ms/step - loss: 0.3936 - accuracy: 0.8605\n",
      "Epoch 15/20\n",
      "469/469 [==============================] - 1s 2ms/step - loss: 0.3877 - accuracy: 0.8626\n",
      "Epoch 16/20\n",
      "469/469 [==============================] - 1s 2ms/step - loss: 0.3823 - accuracy: 0.8647\n",
      "Epoch 17/20\n",
      "469/469 [==============================] - 1s 2ms/step - loss: 0.3770 - accuracy: 0.8668\n",
      "Epoch 18/20\n",
      "469/469 [==============================] - 1s 2ms/step - loss: 0.3725 - accuracy: 0.8668\n",
      "Epoch 19/20\n",
      "469/469 [==============================] - 1s 2ms/step - loss: 0.3682 - accuracy: 0.8698\n",
      "Epoch 20/20\n",
      "469/469 [==============================] - 1s 2ms/step - loss: 0.3644 - accuracy: 0.8701\n"
     ]
    },
    {
     "data": {
      "text/plain": [
       "<keras.callbacks.History at 0x27b166ff280>"
      ]
     },
     "execution_count": 14,
     "metadata": {},
     "output_type": "execute_result"
    }
   ],
   "source": [
    "model = Sequential()\n",
    "# The first dense layer\n",
    "model.add(Dense(128, input_shape=(784,), activation=\"tanh\"))\n",
    "# The second dense layer\n",
    "model.add(Dense(64, activation=\"tanh\"))\n",
    "# Third dense layer\n",
    "model.add(Dense(32, activation=\"tanh\"))\n",
    "# The last layer is the output layer\n",
    "model.add(Dense(10, activation=\"softmax\"))\n",
    "\n",
    "model.compile(optimizer='sgd', loss='categorical_crossentropy',\n",
    "              metrics=['accuracy'])\n",
    "\n",
    "model.fit(X_train, Y_train, batch_size=128, epochs=20, verbose=1)"
   ]
  },
  {
   "cell_type": "code",
   "execution_count": 15,
   "id": "b0ff7a7e-53f8-4b9d-8df7-b38cd9195ad3",
   "metadata": {},
   "outputs": [
    {
     "name": "stdout",
     "output_type": "stream",
     "text": [
      "Training score: 0.36468929052352905\n",
      "Training accuracy: 0.870199978351593\n"
     ]
    }
   ],
   "source": [
    "train_score = model.evaluate(X_train, Y_train, verbose=0)\n",
    "print('Training score:', train_score[0])\n",
    "print('Training accuracy:', train_score[1])"
   ]
  },
  {
   "cell_type": "code",
   "execution_count": 16,
   "id": "075d47ad-8ffa-4ec7-9b25-62927487181b",
   "metadata": {},
   "outputs": [
    {
     "name": "stdout",
     "output_type": "stream",
     "text": [
      "Epoch 1/20\n",
      "469/469 [==============================] - 1s 2ms/step - loss: 1.2330 - accuracy: 0.5789\n",
      "Epoch 2/20\n",
      "469/469 [==============================] - 1s 2ms/step - loss: 0.6737 - accuracy: 0.7730\n",
      "Epoch 3/20\n",
      "469/469 [==============================] - 1s 2ms/step - loss: 0.5687 - accuracy: 0.8053\n",
      "Epoch 4/20\n",
      "469/469 [==============================] - 1s 2ms/step - loss: 0.5186 - accuracy: 0.8208\n",
      "Epoch 5/20\n",
      "469/469 [==============================] - 1s 2ms/step - loss: 0.4912 - accuracy: 0.8291\n",
      "Epoch 6/20\n",
      "469/469 [==============================] - 1s 2ms/step - loss: 0.4702 - accuracy: 0.8364\n",
      "Epoch 7/20\n",
      "469/469 [==============================] - 1s 2ms/step - loss: 0.4559 - accuracy: 0.8405\n",
      "Epoch 8/20\n",
      "469/469 [==============================] - 1s 2ms/step - loss: 0.4416 - accuracy: 0.8457\n",
      "Epoch 9/20\n",
      "469/469 [==============================] - 1s 2ms/step - loss: 0.4309 - accuracy: 0.8499\n",
      "Epoch 10/20\n",
      "469/469 [==============================] - 1s 2ms/step - loss: 0.4199 - accuracy: 0.8531\n",
      "Epoch 11/20\n",
      "469/469 [==============================] - 1s 2ms/step - loss: 0.4130 - accuracy: 0.8557\n",
      "Epoch 12/20\n",
      "469/469 [==============================] - 1s 2ms/step - loss: 0.4055 - accuracy: 0.8584\n",
      "Epoch 13/20\n",
      "469/469 [==============================] - 1s 2ms/step - loss: 0.3995 - accuracy: 0.8605\n",
      "Epoch 14/20\n",
      "469/469 [==============================] - 1s 2ms/step - loss: 0.3926 - accuracy: 0.8621\n",
      "Epoch 15/20\n",
      "469/469 [==============================] - 1s 2ms/step - loss: 0.3852 - accuracy: 0.8661\n",
      "Epoch 16/20\n",
      "469/469 [==============================] - 1s 2ms/step - loss: 0.3800 - accuracy: 0.8679\n",
      "Epoch 17/20\n",
      "469/469 [==============================] - 1s 2ms/step - loss: 0.3745 - accuracy: 0.8701\n",
      "Epoch 18/20\n",
      "469/469 [==============================] - 1s 2ms/step - loss: 0.3704 - accuracy: 0.8694\n",
      "Epoch 19/20\n",
      "469/469 [==============================] - 1s 2ms/step - loss: 0.3652 - accuracy: 0.8726\n",
      "Epoch 20/20\n",
      "469/469 [==============================] - 1s 2ms/step - loss: 0.3604 - accuracy: 0.8746\n"
     ]
    },
    {
     "data": {
      "text/plain": [
       "<keras.callbacks.History at 0x27b2872f970>"
      ]
     },
     "execution_count": 16,
     "metadata": {},
     "output_type": "execute_result"
    }
   ],
   "source": [
    "model = Sequential()\n",
    "# The first dense layer\n",
    "model.add(Dense(128, input_shape=(784,), activation=\"relu\"))\n",
    "# The second dense layer\n",
    "model.add(Dense(64, activation=\"relu\"))\n",
    "# Third dense layer\n",
    "model.add(Dense(32, activation=\"relu\"))\n",
    "# The last layer is the output layer\n",
    "model.add(Dense(10, activation=\"softmax\"))\n",
    "\n",
    "model.compile(optimizer='sgd', loss='categorical_crossentropy',\n",
    "              metrics=['accuracy'])\n",
    "\n",
    "model.fit(X_train, Y_train, batch_size=128, epochs=20, verbose=1)"
   ]
  },
  {
   "cell_type": "code",
   "execution_count": 17,
   "id": "e4f75a41-ddfe-4a71-a34b-2a0c5934e1ae",
   "metadata": {},
   "outputs": [
    {
     "name": "stdout",
     "output_type": "stream",
     "text": [
      "Training score: 0.3533790111541748\n",
      "Training accuracy: 0.8759499788284302\n"
     ]
    }
   ],
   "source": [
    "train_score = model.evaluate(X_train, Y_train, verbose=0)\n",
    "print('Training score:', train_score[0])\n",
    "print('Training accuracy:', train_score[1])"
   ]
  },
  {
   "cell_type": "code",
   "execution_count": 18,
   "id": "6bbf8007-8624-4639-be5d-e3173f3f04fa",
   "metadata": {},
   "outputs": [
    {
     "name": "stdout",
     "output_type": "stream",
     "text": [
      "Epoch 1/20\n",
      "469/469 [==============================] - 1s 2ms/step - loss: 1.0024 - accuracy: 0.7041\n",
      "Epoch 2/20\n",
      "469/469 [==============================] - 1s 2ms/step - loss: 0.6301 - accuracy: 0.7946\n",
      "Epoch 3/20\n",
      "469/469 [==============================] - 1s 2ms/step - loss: 0.5467 - accuracy: 0.8140\n",
      "Epoch 4/20\n",
      "469/469 [==============================] - 1s 2ms/step - loss: 0.5039 - accuracy: 0.8253\n",
      "Epoch 5/20\n",
      "469/469 [==============================] - 1s 2ms/step - loss: 0.4774 - accuracy: 0.8326\n",
      "Epoch 6/20\n",
      "469/469 [==============================] - 1s 2ms/step - loss: 0.4582 - accuracy: 0.8388\n",
      "Epoch 7/20\n",
      "469/469 [==============================] - 1s 2ms/step - loss: 0.4434 - accuracy: 0.8436\n",
      "Epoch 8/20\n",
      "469/469 [==============================] - 1s 2ms/step - loss: 0.4306 - accuracy: 0.8483\n",
      "Epoch 9/20\n",
      "469/469 [==============================] - 1s 2ms/step - loss: 0.4205 - accuracy: 0.8511\n",
      "Epoch 10/20\n",
      "469/469 [==============================] - 1s 2ms/step - loss: 0.4112 - accuracy: 0.8541\n",
      "Epoch 11/20\n",
      "469/469 [==============================] - 1s 2ms/step - loss: 0.4032 - accuracy: 0.8560\n",
      "Epoch 12/20\n",
      "469/469 [==============================] - 1s 2ms/step - loss: 0.3960 - accuracy: 0.8600\n",
      "Epoch 13/20\n",
      "469/469 [==============================] - 1s 2ms/step - loss: 0.3899 - accuracy: 0.8616\n",
      "Epoch 14/20\n",
      "469/469 [==============================] - 1s 2ms/step - loss: 0.3838 - accuracy: 0.8630\n",
      "Epoch 15/20\n",
      "469/469 [==============================] - 1s 2ms/step - loss: 0.3782 - accuracy: 0.8654\n",
      "Epoch 16/20\n",
      "469/469 [==============================] - 1s 2ms/step - loss: 0.3733 - accuracy: 0.8667\n",
      "Epoch 17/20\n",
      "469/469 [==============================] - 1s 2ms/step - loss: 0.3688 - accuracy: 0.8687\n",
      "Epoch 18/20\n",
      "469/469 [==============================] - 1s 2ms/step - loss: 0.3644 - accuracy: 0.8701\n",
      "Epoch 19/20\n",
      "469/469 [==============================] - 1s 2ms/step - loss: 0.3603 - accuracy: 0.8707\n",
      "Epoch 20/20\n",
      "469/469 [==============================] - 1s 2ms/step - loss: 0.3562 - accuracy: 0.8721\n"
     ]
    },
    {
     "data": {
      "text/plain": [
       "<keras.callbacks.History at 0x27b16bc1340>"
      ]
     },
     "execution_count": 18,
     "metadata": {},
     "output_type": "execute_result"
    }
   ],
   "source": [
    "model = Sequential()\n",
    "# The first dense layer\n",
    "model.add(Dense(156, input_shape=(784,), activation=\"tanh\"))\n",
    "# The second dense layer\n",
    "model.add(Dense(78, activation=\"tanh\"))\n",
    "# Third dense layer\n",
    "model.add(Dense(39, activation=\"tanh\"))\n",
    "# The last layer is the output layer\n",
    "model.add(Dense(10, activation=\"softmax\"))\n",
    "\n",
    "model.compile(optimizer='sgd', loss='categorical_crossentropy',\n",
    "              metrics=['accuracy'])\n",
    "\n",
    "model.fit(X_train, Y_train, batch_size=128, epochs=20, verbose=1)"
   ]
  },
  {
   "cell_type": "code",
   "execution_count": 19,
   "id": "ad8479a2-9713-4057-b507-502e39636ab1",
   "metadata": {},
   "outputs": [
    {
     "name": "stdout",
     "output_type": "stream",
     "text": [
      "Training score: 0.3555021584033966\n",
      "Training accuracy: 0.8713499903678894\n"
     ]
    }
   ],
   "source": [
    "train_score = model.evaluate(X_train, Y_train, verbose=0)\n",
    "print('Training score:', train_score[0])\n",
    "print('Training accuracy:', train_score[1])"
   ]
  },
  {
   "cell_type": "code",
   "execution_count": 20,
   "id": "7e5c1f6d-45ee-4e1d-8a30-c6751cd5d276",
   "metadata": {},
   "outputs": [
    {
     "name": "stdout",
     "output_type": "stream",
     "text": [
      "Epoch 1/20\n",
      "469/469 [==============================] - 1s 2ms/step - loss: 1.2530 - accuracy: 0.5946\n",
      "Epoch 2/20\n",
      "469/469 [==============================] - 1s 2ms/step - loss: 0.6499 - accuracy: 0.7823\n",
      "Epoch 3/20\n",
      "469/469 [==============================] - 1s 2ms/step - loss: 0.5525 - accuracy: 0.8118\n",
      "Epoch 4/20\n",
      "469/469 [==============================] - 1s 2ms/step - loss: 0.5068 - accuracy: 0.8249\n",
      "Epoch 5/20\n",
      "469/469 [==============================] - 1s 2ms/step - loss: 0.4802 - accuracy: 0.8334\n",
      "Epoch 6/20\n",
      "469/469 [==============================] - 1s 2ms/step - loss: 0.4613 - accuracy: 0.8399\n",
      "Epoch 7/20\n",
      "469/469 [==============================] - 1s 2ms/step - loss: 0.4450 - accuracy: 0.8441\n",
      "Epoch 8/20\n",
      "469/469 [==============================] - 1s 2ms/step - loss: 0.4348 - accuracy: 0.8481\n",
      "Epoch 9/20\n",
      "469/469 [==============================] - 1s 2ms/step - loss: 0.4213 - accuracy: 0.8516\n",
      "Epoch 10/20\n",
      "469/469 [==============================] - 1s 2ms/step - loss: 0.4120 - accuracy: 0.8555\n",
      "Epoch 11/20\n",
      "469/469 [==============================] - 1s 2ms/step - loss: 0.4046 - accuracy: 0.8583\n",
      "Epoch 12/20\n",
      "469/469 [==============================] - 1s 2ms/step - loss: 0.3962 - accuracy: 0.8608\n",
      "Epoch 13/20\n",
      "469/469 [==============================] - 1s 2ms/step - loss: 0.3878 - accuracy: 0.8637\n",
      "Epoch 14/20\n",
      "469/469 [==============================] - 1s 2ms/step - loss: 0.3818 - accuracy: 0.8658\n",
      "Epoch 15/20\n",
      "469/469 [==============================] - 1s 2ms/step - loss: 0.3757 - accuracy: 0.8688\n",
      "Epoch 16/20\n",
      "469/469 [==============================] - 1s 2ms/step - loss: 0.3710 - accuracy: 0.8705\n",
      "Epoch 17/20\n",
      "469/469 [==============================] - 1s 2ms/step - loss: 0.3663 - accuracy: 0.8718\n",
      "Epoch 18/20\n",
      "469/469 [==============================] - 1s 2ms/step - loss: 0.3613 - accuracy: 0.8723\n",
      "Epoch 19/20\n",
      "469/469 [==============================] - 1s 2ms/step - loss: 0.3551 - accuracy: 0.8747\n",
      "Epoch 20/20\n",
      "469/469 [==============================] - 1s 2ms/step - loss: 0.3524 - accuracy: 0.8756\n"
     ]
    },
    {
     "data": {
      "text/plain": [
       "<keras.callbacks.History at 0x27b31c23fa0>"
      ]
     },
     "execution_count": 20,
     "metadata": {},
     "output_type": "execute_result"
    }
   ],
   "source": [
    "model = Sequential()\n",
    "# The first dense layer\n",
    "model.add(Dense(156, input_shape=(784,), activation=\"relu\"))\n",
    "# The second dense layer\n",
    "model.add(Dense(78, activation=\"relu\"))\n",
    "# Third dense layer\n",
    "model.add(Dense(39, activation=\"relu\"))\n",
    "# The last layer is the output layer\n",
    "model.add(Dense(10, activation=\"softmax\"))\n",
    "\n",
    "model.compile(optimizer='sgd', loss='categorical_crossentropy',\n",
    "              metrics=['accuracy'])\n",
    "\n",
    "model.fit(X_train, Y_train, batch_size=128, epochs=20, verbose=1)"
   ]
  },
  {
   "cell_type": "code",
   "execution_count": 21,
   "id": "504f1432-1d6d-4e94-88c1-1621d8048c9c",
   "metadata": {},
   "outputs": [
    {
     "name": "stdout",
     "output_type": "stream",
     "text": [
      "Training score: 0.34525319933891296\n",
      "Training accuracy: 0.8782333135604858\n"
     ]
    }
   ],
   "source": [
    "train_score = model.evaluate(X_train, Y_train, verbose=0)\n",
    "print('Training score:', train_score[0])\n",
    "print('Training accuracy:', train_score[1])"
   ]
  },
  {
   "cell_type": "markdown",
   "id": "9df84bff-62bc-4de6-ab3e-c736ae6f8131",
   "metadata": {},
   "source": [
    "\n",
    "```\n",
    "| Activation Function | Layers          | Batch Size | Accuracy Score | Training Score |\n",
    "|---------------------|-----------------|------------|----------------|----------------|\n",
    "| Tahn                | 3 (128, 64, 32) | 8          | 0.92           | 0.21           |\n",
    "| Tahn                | 2 (128, 64)     | 8          | 0.93           | 0.20           |\n",
    "|                     |                 |            |                |                |\n",
    "| Relu                | 3 (128, 64, 32) | 8          | 0.93           | 0.20           |\n",
    "| Relu                | 2 (128, 64)     | 8          | 0.93           | 0.19           |\n",
    "|                     |                 |            |                |                |\n",
    "| Tahn                | 3 (128, 64, 32) | 128        | 0.87           | 0.36           |\n",
    "| Relu                | 3 (128, 64, 32) | 128        | 0.88           | 0.35           |\n",
    "|                     |                 |            |                |                |\n",
    "| Tahn                | 3 (156, 78, 39) | 128        | 0.87           | 0.36           |\n",
    "| Relu                | 3 (156, 78, 39) | 128        | 0.88           | 0.35           |"
   ]
  },
  {
   "cell_type": "markdown",
   "id": "25beb0e0-0e02-4aaa-b790-02a6fe494441",
   "metadata": {},
   "source": [
    "* The models performed very similarly (Tahn & Relu) with the changes in parameters.\n",
    "* The best models were 2 layer (128, 64, 10) with batch size 8.\n",
    "* Their was a very slight loss of performance when using 2 layers.\n",
    "<br>\n",
    "* Both models again were very similar when the batch size was increased to 128. They did see a marked drop in performance.\n",
    "* A change to the number of nuerons didn't seem to have an effect at batch size 128.\n",
    "<br>\n",
    "* With this data set a lower batch size was the main factor in scoring."
   ]
  },
  {
   "cell_type": "code",
   "execution_count": null,
   "id": "d945924b-837b-4f27-8070-95802c41e12d",
   "metadata": {},
   "outputs": [],
   "source": []
  }
 ],
 "metadata": {
  "kernelspec": {
   "display_name": "Python 3 (ipykernel)",
   "language": "python",
   "name": "python3"
  },
  "language_info": {
   "codemirror_mode": {
    "name": "ipython",
    "version": 3
   },
   "file_extension": ".py",
   "mimetype": "text/x-python",
   "name": "python",
   "nbconvert_exporter": "python",
   "pygments_lexer": "ipython3",
   "version": "3.9.17"
  }
 },
 "nbformat": 4,
 "nbformat_minor": 5
}
